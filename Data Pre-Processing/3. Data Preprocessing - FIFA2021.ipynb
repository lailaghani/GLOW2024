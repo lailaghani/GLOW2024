{
 "cells": [
  {
   "cell_type": "code",
   "execution_count": 248,
   "metadata": {},
   "outputs": [],
   "source": [
    "# import packages\n",
    "import pandas as pd"
   ]
  },
  {
   "cell_type": "code",
   "execution_count": 249,
   "metadata": {
    "scrolled": true
   },
   "outputs": [
    {
     "data": {
      "text/html": [
       "<div>\n",
       "<style scoped>\n",
       "    .dataframe tbody tr th:only-of-type {\n",
       "        vertical-align: middle;\n",
       "    }\n",
       "\n",
       "    .dataframe tbody tr th {\n",
       "        vertical-align: top;\n",
       "    }\n",
       "\n",
       "    .dataframe thead th {\n",
       "        text-align: right;\n",
       "    }\n",
       "</style>\n",
       "<table border=\"1\" class=\"dataframe\">\n",
       "  <thead>\n",
       "    <tr style=\"text-align: right;\">\n",
       "      <th></th>\n",
       "      <th>id</th>\n",
       "      <th>name</th>\n",
       "      <th>age</th>\n",
       "      <th>dob</th>\n",
       "      <th>height_cm</th>\n",
       "      <th>weight_kg</th>\n",
       "      <th>nationality</th>\n",
       "      <th>wage_eur</th>\n",
       "      <th>international_reputation</th>\n",
       "      <th>preferred_foot</th>\n",
       "      <th>attacking_crossing</th>\n",
       "      <th>attacking_finishing</th>\n",
       "      <th>attacking_heading_accuracy</th>\n",
       "      <th>attacking_short_passing</th>\n",
       "      <th>attacking_volleys</th>\n",
       "    </tr>\n",
       "  </thead>\n",
       "  <tbody>\n",
       "    <tr>\n",
       "      <th>0</th>\n",
       "      <td>158023</td>\n",
       "      <td>L. Messi</td>\n",
       "      <td>34</td>\n",
       "      <td>24/6/1987</td>\n",
       "      <td>170</td>\n",
       "      <td>158.0</td>\n",
       "      <td>Argentina</td>\n",
       "      <td>RM560000</td>\n",
       "      <td>6</td>\n",
       "      <td>Left</td>\n",
       "      <td>85.0</td>\n",
       "      <td>95.0</td>\n",
       "      <td>70.0</td>\n",
       "      <td>91.0</td>\n",
       "      <td>88.0</td>\n",
       "    </tr>\n",
       "    <tr>\n",
       "      <th>1</th>\n",
       "      <td>20801</td>\n",
       "      <td>Cristiano Ronaldo</td>\n",
       "      <td>36</td>\n",
       "      <td>5/2/1985</td>\n",
       "      <td>187</td>\n",
       "      <td>83.0</td>\n",
       "      <td>Portugal</td>\n",
       "      <td>RM220000</td>\n",
       "      <td>6</td>\n",
       "      <td>Right</td>\n",
       "      <td>84.0</td>\n",
       "      <td>95.0</td>\n",
       "      <td>90.0</td>\n",
       "      <td>82.0</td>\n",
       "      <td>86.0</td>\n",
       "    </tr>\n",
       "    <tr>\n",
       "      <th>2</th>\n",
       "      <td>200389</td>\n",
       "      <td>J. Oblak</td>\n",
       "      <td>28</td>\n",
       "      <td>7/1/1993</td>\n",
       "      <td>188</td>\n",
       "      <td>87.0</td>\n",
       "      <td>Slovenia</td>\n",
       "      <td>RM125000</td>\n",
       "      <td>3</td>\n",
       "      <td>Up</td>\n",
       "      <td>13.0</td>\n",
       "      <td>11.0</td>\n",
       "      <td>15.0</td>\n",
       "      <td>43.0</td>\n",
       "      <td>13.0</td>\n",
       "    </tr>\n",
       "    <tr>\n",
       "      <th>3</th>\n",
       "      <td>188545</td>\n",
       "      <td>R. Lewandowski</td>\n",
       "      <td>32</td>\n",
       "      <td>21/8/1988</td>\n",
       "      <td>184</td>\n",
       "      <td>80.0</td>\n",
       "      <td>Poland</td>\n",
       "      <td>RM240000</td>\n",
       "      <td>4</td>\n",
       "      <td>Right</td>\n",
       "      <td>71.0</td>\n",
       "      <td>94.0</td>\n",
       "      <td>85.0</td>\n",
       "      <td>84.0</td>\n",
       "      <td>89.0</td>\n",
       "    </tr>\n",
       "    <tr>\n",
       "      <th>4</th>\n",
       "      <td>188545</td>\n",
       "      <td>R. Lewandowski</td>\n",
       "      <td>32</td>\n",
       "      <td>21/8/1988</td>\n",
       "      <td>184</td>\n",
       "      <td>80.0</td>\n",
       "      <td>Poland</td>\n",
       "      <td>RM240000</td>\n",
       "      <td>4</td>\n",
       "      <td>Right</td>\n",
       "      <td>71.0</td>\n",
       "      <td>94.0</td>\n",
       "      <td>85.0</td>\n",
       "      <td>84.0</td>\n",
       "      <td>89.0</td>\n",
       "    </tr>\n",
       "    <tr>\n",
       "      <th>5</th>\n",
       "      <td>190871</td>\n",
       "      <td>Neymar Jr</td>\n",
       "      <td>29</td>\n",
       "      <td>5/2/1992</td>\n",
       "      <td>175</td>\n",
       "      <td>68.0</td>\n",
       "      <td>Brazil</td>\n",
       "      <td>RM270000</td>\n",
       "      <td>6</td>\n",
       "      <td>Right</td>\n",
       "      <td>85.0</td>\n",
       "      <td>87.0</td>\n",
       "      <td>62.0</td>\n",
       "      <td>87.0</td>\n",
       "      <td>87.0</td>\n",
       "    </tr>\n",
       "    <tr>\n",
       "      <th>6</th>\n",
       "      <td>192985</td>\n",
       "      <td>K. De Bruyne</td>\n",
       "      <td>30</td>\n",
       "      <td>28/6/1991</td>\n",
       "      <td>181</td>\n",
       "      <td>70.0</td>\n",
       "      <td>Belgium</td>\n",
       "      <td>RM370000</td>\n",
       "      <td>4</td>\n",
       "      <td>NaN</td>\n",
       "      <td>94.0</td>\n",
       "      <td>82.0</td>\n",
       "      <td>55.0</td>\n",
       "      <td>94.0</td>\n",
       "      <td>82.0</td>\n",
       "    </tr>\n",
       "    <tr>\n",
       "      <th>7</th>\n",
       "      <td>231747</td>\n",
       "      <td>K. Mbappé</td>\n",
       "      <td>22</td>\n",
       "      <td>20/12/1998</td>\n",
       "      <td>178</td>\n",
       "      <td>73.0</td>\n",
       "      <td>France</td>\n",
       "      <td>RM160000</td>\n",
       "      <td>3</td>\n",
       "      <td>Right</td>\n",
       "      <td>78.0</td>\n",
       "      <td>91.0</td>\n",
       "      <td>73.0</td>\n",
       "      <td>83.0</td>\n",
       "      <td>83.0</td>\n",
       "    </tr>\n",
       "    <tr>\n",
       "      <th>8</th>\n",
       "      <td>192448</td>\n",
       "      <td>M. ter Stegen</td>\n",
       "      <td>29</td>\n",
       "      <td>30/4/1992</td>\n",
       "      <td>187</td>\n",
       "      <td>85.0</td>\n",
       "      <td>Germany</td>\n",
       "      <td>RM260000</td>\n",
       "      <td>3</td>\n",
       "      <td>Right</td>\n",
       "      <td>18.0</td>\n",
       "      <td>14.0</td>\n",
       "      <td>11.0</td>\n",
       "      <td>61.0</td>\n",
       "      <td>14.0</td>\n",
       "    </tr>\n",
       "    <tr>\n",
       "      <th>9</th>\n",
       "      <td>203376</td>\n",
       "      <td>V. van Dijk</td>\n",
       "      <td>30</td>\n",
       "      <td>8/7/1991</td>\n",
       "      <td>193</td>\n",
       "      <td>92.0</td>\n",
       "      <td>Netherlands</td>\n",
       "      <td>RM210000</td>\n",
       "      <td>3</td>\n",
       "      <td>Right</td>\n",
       "      <td>53.0</td>\n",
       "      <td>52.0</td>\n",
       "      <td>87.0</td>\n",
       "      <td>79.0</td>\n",
       "      <td>45.0</td>\n",
       "    </tr>\n",
       "  </tbody>\n",
       "</table>\n",
       "</div>"
      ],
      "text/plain": [
       "       id               name  age         dob height_cm  weight_kg  \\\n",
       "0  158023           L. Messi   34   24/6/1987       170      158.0   \n",
       "1   20801  Cristiano Ronaldo   36    5/2/1985       187       83.0   \n",
       "2  200389           J. Oblak   28    7/1/1993       188       87.0   \n",
       "3  188545     R. Lewandowski   32   21/8/1988       184       80.0   \n",
       "4  188545     R. Lewandowski   32   21/8/1988       184       80.0   \n",
       "5  190871          Neymar Jr   29    5/2/1992       175       68.0   \n",
       "6  192985       K. De Bruyne   30   28/6/1991       181       70.0   \n",
       "7  231747          K. Mbappé   22  20/12/1998       178       73.0   \n",
       "8  192448      M. ter Stegen   29   30/4/1992       187       85.0   \n",
       "9  203376        V. van Dijk   30    8/7/1991       193       92.0   \n",
       "\n",
       "   nationality  wage_eur  international_reputation preferred_foot  \\\n",
       "0    Argentina  RM560000                         6           Left   \n",
       "1     Portugal  RM220000                         6          Right   \n",
       "2     Slovenia  RM125000                         3             Up   \n",
       "3       Poland  RM240000                         4          Right   \n",
       "4       Poland  RM240000                         4          Right   \n",
       "5       Brazil  RM270000                         6          Right   \n",
       "6      Belgium  RM370000                         4            NaN   \n",
       "7       France  RM160000                         3          Right   \n",
       "8      Germany  RM260000                         3          Right   \n",
       "9  Netherlands  RM210000                         3          Right   \n",
       "\n",
       "   attacking_crossing  attacking_finishing  attacking_heading_accuracy  \\\n",
       "0                85.0                 95.0                        70.0   \n",
       "1                84.0                 95.0                        90.0   \n",
       "2                13.0                 11.0                        15.0   \n",
       "3                71.0                 94.0                        85.0   \n",
       "4                71.0                 94.0                        85.0   \n",
       "5                85.0                 87.0                        62.0   \n",
       "6                94.0                 82.0                        55.0   \n",
       "7                78.0                 91.0                        73.0   \n",
       "8                18.0                 14.0                        11.0   \n",
       "9                53.0                 52.0                        87.0   \n",
       "\n",
       "   attacking_short_passing  attacking_volleys  \n",
       "0                     91.0               88.0  \n",
       "1                     82.0               86.0  \n",
       "2                     43.0               13.0  \n",
       "3                     84.0               89.0  \n",
       "4                     84.0               89.0  \n",
       "5                     87.0               87.0  \n",
       "6                     94.0               82.0  \n",
       "7                     83.0               83.0  \n",
       "8                     61.0               14.0  \n",
       "9                     79.0               45.0  "
      ]
     },
     "execution_count": 249,
     "metadata": {},
     "output_type": "execute_result"
    }
   ],
   "source": [
    "# import CSV and output header\n",
    "fifa = pd.read_csv('fifa-21.csv')\n",
    "fifa.head(10)"
   ]
  },
  {
   "cell_type": "code",
   "execution_count": 250,
   "metadata": {},
   "outputs": [
    {
     "name": "stdout",
     "output_type": "stream",
     "text": [
      "<class 'pandas.core.frame.DataFrame'>\n",
      "RangeIndex: 104 entries, 0 to 103\n",
      "Data columns (total 15 columns):\n",
      " #   Column                      Non-Null Count  Dtype  \n",
      "---  ------                      --------------  -----  \n",
      " 0   id                          104 non-null    int64  \n",
      " 1   name                        104 non-null    object \n",
      " 2   age                         104 non-null    int64  \n",
      " 3   dob                         104 non-null    object \n",
      " 4   height_cm                   104 non-null    object \n",
      " 5   weight_kg                   101 non-null    float64\n",
      " 6   nationality                 104 non-null    object \n",
      " 7   wage_eur                    104 non-null    object \n",
      " 8   international_reputation    104 non-null    int64  \n",
      " 9   preferred_foot              101 non-null    object \n",
      " 10  attacking_crossing          101 non-null    float64\n",
      " 11  attacking_finishing         101 non-null    float64\n",
      " 12  attacking_heading_accuracy  101 non-null    float64\n",
      " 13  attacking_short_passing     101 non-null    float64\n",
      " 14  attacking_volleys           101 non-null    float64\n",
      "dtypes: float64(6), int64(3), object(6)\n",
      "memory usage: 12.3+ KB\n"
     ]
    }
   ],
   "source": [
    "# Get DataFrame information\n",
    "fifa.info()"
   ]
  },
  {
   "cell_type": "markdown",
   "metadata": {},
   "source": [
    "# DATA TYPE CONSTRAINTS"
   ]
  },
  {
   "cell_type": "code",
   "execution_count": 251,
   "metadata": {},
   "outputs": [],
   "source": [
    "# Remove 'RM' from Wage_Eur column\n",
    "fifa['wage_eur'] = fifa['wage_eur'].str.strip('RM')\n",
    "# Convert the Wage_Eur column to integer\n",
    "fifa['wage_eur'] = fifa['wage_eur'].astype('int')"
   ]
  },
  {
   "cell_type": "code",
   "execution_count": 252,
   "metadata": {
    "scrolled": true
   },
   "outputs": [
    {
     "name": "stdout",
     "output_type": "stream",
     "text": [
      "<class 'pandas.core.frame.DataFrame'>\n",
      "RangeIndex: 104 entries, 0 to 103\n",
      "Data columns (total 15 columns):\n",
      " #   Column                      Non-Null Count  Dtype  \n",
      "---  ------                      --------------  -----  \n",
      " 0   id                          104 non-null    int64  \n",
      " 1   name                        104 non-null    object \n",
      " 2   age                         104 non-null    int64  \n",
      " 3   dob                         104 non-null    object \n",
      " 4   height_cm                   104 non-null    object \n",
      " 5   weight_kg                   101 non-null    float64\n",
      " 6   nationality                 104 non-null    object \n",
      " 7   wage_eur                    104 non-null    int32  \n",
      " 8   international_reputation    104 non-null    int64  \n",
      " 9   preferred_foot              101 non-null    object \n",
      " 10  attacking_crossing          101 non-null    float64\n",
      " 11  attacking_finishing         101 non-null    float64\n",
      " 12  attacking_heading_accuracy  101 non-null    float64\n",
      " 13  attacking_short_passing     101 non-null    float64\n",
      " 14  attacking_volleys           101 non-null    float64\n",
      "dtypes: float64(6), int32(1), int64(3), object(5)\n",
      "memory usage: 11.9+ KB\n"
     ]
    }
   ],
   "source": [
    "# Verify that the Wage_Eur column is now an integer\n",
    "fifa.info()"
   ]
  },
  {
   "cell_type": "markdown",
   "metadata": {},
   "source": [
    "# DATA RANGE CONSTRAINTS"
   ]
  },
  {
   "cell_type": "code",
   "execution_count": 165,
   "metadata": {},
   "outputs": [
    {
     "data": {
      "text/plain": [
       "(array([ 1.,  0., 15.,  0., 59.,  0., 24.,  0.,  2.,  3.]),\n",
       " array([1. , 1.5, 2. , 2.5, 3. , 3.5, 4. , 4.5, 5. , 5.5, 6. ]),\n",
       " <BarContainer object of 10 artists>)"
      ]
     },
     "execution_count": 165,
     "metadata": {},
     "output_type": "execute_result"
    },
    {
     "data": {
      "image/png": "[encoded data removed]",
      "text/plain": [
       "<Figure size 432x288 with 1 Axes>"
      ]
     },
     "metadata": {
      "needs_background": "light"
     },
     "output_type": "display_data"
    }
   ],
   "source": [
    "# Check the out of range International_Reputation column \n",
    "import matplotlib.pyplot as plt\n",
    "plt.hist(fifa['international_reputation'])"
   ]
  },
  {
   "cell_type": "code",
   "execution_count": 253,
   "metadata": {},
   "outputs": [
    {
     "data": {
      "text/plain": [
       "(array([ 1.,  0., 15.,  0.,  0., 59.,  0., 24.,  0.,  5.]),\n",
       " array([1. , 1.4, 1.8, 2.2, 2.6, 3. , 3.4, 3.8, 4.2, 4.6, 5. ]),\n",
       " <BarContainer object of 10 artists>)"
      ]
     },
     "execution_count": 253,
     "metadata": {},
     "output_type": "execute_result"
    },
    {
     "data": {
      "image/png": "[encoded data removed]",
      "text/plain": [
       "<Figure size 432x288 with 1 Axes>"
      ]
     },
     "metadata": {
      "needs_background": "light"
     },
     "output_type": "display_data"
    }
   ],
   "source": [
    "# Convert International_Reputation column\n",
    "fifa.loc[fifa['international_reputation'] > 5, 'international_reputation'] = 5\n",
    "# Check the new range of International_Reputation column \n",
    "plt.hist(fifa['international_reputation'])"
   ]
  },
  {
   "cell_type": "code",
   "execution_count": 167,
   "metadata": {},
   "outputs": [
    {
     "name": "stdout",
     "output_type": "stream",
     "text": [
      "<class 'pandas.core.frame.DataFrame'>\n",
      "RangeIndex: 104 entries, 0 to 103\n",
      "Data columns (total 15 columns):\n",
      " #   Column                      Non-Null Count  Dtype   \n",
      "---  ------                      --------------  -----   \n",
      " 0   id                          104 non-null    int64   \n",
      " 1   name                        104 non-null    object  \n",
      " 2   age                         104 non-null    int64   \n",
      " 3   dob                         104 non-null    object  \n",
      " 4   height_cm                   104 non-null    object  \n",
      " 5   weight_kg                   101 non-null    float64 \n",
      " 6   nationality                 104 non-null    object  \n",
      " 7   wage_eur                    104 non-null    int32   \n",
      " 8   international_reputation    104 non-null    category\n",
      " 9   preferred_foot              101 non-null    object  \n",
      " 10  attacking_crossing          101 non-null    float64 \n",
      " 11  attacking_finishing         101 non-null    float64 \n",
      " 12  attacking_heading_accuracy  101 non-null    float64 \n",
      " 13  attacking_short_passing     101 non-null    float64 \n",
      " 14  attacking_volleys           101 non-null    float64 \n",
      "dtypes: category(1), float64(6), int32(1), int64(2), object(5)\n",
      "memory usage: 11.4+ KB\n"
     ]
    }
   ],
   "source": [
    "# Convert the International_Reputation column to categorical\n",
    "fifa['international_reputation'] = fifa['international_reputation'].astype('category')\n",
    "# Verify that the International_Reputation column is now categorical\n",
    "fifa.info()"
   ]
  },
  {
   "cell_type": "markdown",
   "metadata": {},
   "source": [
    "# UNIQUENESS CONSTRAINTS"
   ]
  },
  {
   "cell_type": "code",
   "execution_count": 254,
   "metadata": {},
   "outputs": [
    {
     "data": {
      "text/html": [
       "<div>\n",
       "<style scoped>\n",
       "    .dataframe tbody tr th:only-of-type {\n",
       "        vertical-align: middle;\n",
       "    }\n",
       "\n",
       "    .dataframe tbody tr th {\n",
       "        vertical-align: top;\n",
       "    }\n",
       "\n",
       "    .dataframe thead th {\n",
       "        text-align: right;\n",
       "    }\n",
       "</style>\n",
       "<table border=\"1\" class=\"dataframe\">\n",
       "  <thead>\n",
       "    <tr style=\"text-align: right;\">\n",
       "      <th></th>\n",
       "      <th>id</th>\n",
       "      <th>name</th>\n",
       "      <th>age</th>\n",
       "      <th>dob</th>\n",
       "      <th>height_cm</th>\n",
       "      <th>weight_kg</th>\n",
       "      <th>nationality</th>\n",
       "      <th>wage_eur</th>\n",
       "      <th>international_reputation</th>\n",
       "      <th>preferred_foot</th>\n",
       "      <th>attacking_crossing</th>\n",
       "      <th>attacking_finishing</th>\n",
       "      <th>attacking_heading_accuracy</th>\n",
       "      <th>attacking_short_passing</th>\n",
       "      <th>attacking_volleys</th>\n",
       "    </tr>\n",
       "  </thead>\n",
       "  <tbody>\n",
       "    <tr>\n",
       "      <th>3</th>\n",
       "      <td>188545</td>\n",
       "      <td>R. Lewandowski</td>\n",
       "      <td>32</td>\n",
       "      <td>21/8/1988</td>\n",
       "      <td>184</td>\n",
       "      <td>80.0</td>\n",
       "      <td>Poland</td>\n",
       "      <td>240000</td>\n",
       "      <td>4</td>\n",
       "      <td>Right</td>\n",
       "      <td>71.0</td>\n",
       "      <td>94.0</td>\n",
       "      <td>85.0</td>\n",
       "      <td>84.0</td>\n",
       "      <td>89.0</td>\n",
       "    </tr>\n",
       "    <tr>\n",
       "      <th>4</th>\n",
       "      <td>188545</td>\n",
       "      <td>R. Lewandowski</td>\n",
       "      <td>32</td>\n",
       "      <td>21/8/1988</td>\n",
       "      <td>184</td>\n",
       "      <td>80.0</td>\n",
       "      <td>Poland</td>\n",
       "      <td>240000</td>\n",
       "      <td>4</td>\n",
       "      <td>Right</td>\n",
       "      <td>71.0</td>\n",
       "      <td>94.0</td>\n",
       "      <td>85.0</td>\n",
       "      <td>84.0</td>\n",
       "      <td>89.0</td>\n",
       "    </tr>\n",
       "    <tr>\n",
       "      <th>12</th>\n",
       "      <td>209331</td>\n",
       "      <td>M. Salah</td>\n",
       "      <td>29</td>\n",
       "      <td>15/6/1992</td>\n",
       "      <td>175</td>\n",
       "      <td>71.0</td>\n",
       "      <td>Egypt</td>\n",
       "      <td>250000</td>\n",
       "      <td>3</td>\n",
       "      <td>left</td>\n",
       "      <td>79.0</td>\n",
       "      <td>91.0</td>\n",
       "      <td>59.0</td>\n",
       "      <td>84.0</td>\n",
       "      <td>79.0</td>\n",
       "    </tr>\n",
       "    <tr>\n",
       "      <th>13</th>\n",
       "      <td>209331</td>\n",
       "      <td>M. Salah</td>\n",
       "      <td>29</td>\n",
       "      <td>15/6/1992</td>\n",
       "      <td>175</td>\n",
       "      <td>71.0</td>\n",
       "      <td>Egypt</td>\n",
       "      <td>250000</td>\n",
       "      <td>3</td>\n",
       "      <td>Left</td>\n",
       "      <td>79.0</td>\n",
       "      <td>91.0</td>\n",
       "      <td>59.0</td>\n",
       "      <td>84.0</td>\n",
       "      <td>79.0</td>\n",
       "    </tr>\n",
       "    <tr>\n",
       "      <th>16</th>\n",
       "      <td>155862</td>\n",
       "      <td>Sergio Ramos</td>\n",
       "      <td>35</td>\n",
       "      <td>30/3/1986</td>\n",
       "      <td>.</td>\n",
       "      <td>82.0</td>\n",
       "      <td>Spain</td>\n",
       "      <td>300000</td>\n",
       "      <td>4</td>\n",
       "      <td>Right</td>\n",
       "      <td>66.0</td>\n",
       "      <td>65.0</td>\n",
       "      <td>92.0</td>\n",
       "      <td>82.0</td>\n",
       "      <td>69.0</td>\n",
       "    </tr>\n",
       "    <tr>\n",
       "      <th>17</th>\n",
       "      <td>155862</td>\n",
       "      <td>Sergio Ramos</td>\n",
       "      <td>35</td>\n",
       "      <td>30/3/1986</td>\n",
       "      <td>184</td>\n",
       "      <td>180.0</td>\n",
       "      <td>Spain</td>\n",
       "      <td>300000</td>\n",
       "      <td>4</td>\n",
       "      <td>NaN</td>\n",
       "      <td>66.0</td>\n",
       "      <td>65.0</td>\n",
       "      <td>92.0</td>\n",
       "      <td>82.0</td>\n",
       "      <td>69.0</td>\n",
       "    </tr>\n",
       "    <tr>\n",
       "      <th>20</th>\n",
       "      <td>200145</td>\n",
       "      <td>Casemiro</td>\n",
       "      <td>29</td>\n",
       "      <td>23/2/1992</td>\n",
       "      <td>185</td>\n",
       "      <td>84.0</td>\n",
       "      <td>Brazil</td>\n",
       "      <td>310000</td>\n",
       "      <td>3</td>\n",
       "      <td>Right</td>\n",
       "      <td>58.0</td>\n",
       "      <td>64.0</td>\n",
       "      <td>80.0</td>\n",
       "      <td>84.0</td>\n",
       "      <td>63.0</td>\n",
       "    </tr>\n",
       "    <tr>\n",
       "      <th>21</th>\n",
       "      <td>200145</td>\n",
       "      <td>Casemiro</td>\n",
       "      <td>29</td>\n",
       "      <td>23/2/1992</td>\n",
       "      <td>185</td>\n",
       "      <td>NaN</td>\n",
       "      <td>Brazil</td>\n",
       "      <td>310000</td>\n",
       "      <td>3</td>\n",
       "      <td>Right</td>\n",
       "      <td>58.0</td>\n",
       "      <td>64.0</td>\n",
       "      <td>80.0</td>\n",
       "      <td>84.0</td>\n",
       "      <td>63.0</td>\n",
       "    </tr>\n",
       "  </tbody>\n",
       "</table>\n",
       "</div>"
      ],
      "text/plain": [
       "        id            name  age        dob height_cm  weight_kg nationality  \\\n",
       "3   188545  R. Lewandowski   32  21/8/1988       184       80.0      Poland   \n",
       "4   188545  R. Lewandowski   32  21/8/1988       184       80.0      Poland   \n",
       "12  209331        M. Salah   29  15/6/1992       175       71.0       Egypt   \n",
       "13  209331        M. Salah   29  15/6/1992       175       71.0       Egypt   \n",
       "16  155862    Sergio Ramos   35  30/3/1986         .       82.0       Spain   \n",
       "17  155862    Sergio Ramos   35  30/3/1986       184      180.0       Spain   \n",
       "20  200145        Casemiro   29  23/2/1992       185       84.0      Brazil   \n",
       "21  200145        Casemiro   29  23/2/1992       185        NaN      Brazil   \n",
       "\n",
       "    wage_eur  international_reputation preferred_foot  attacking_crossing  \\\n",
       "3     240000                         4          Right                71.0   \n",
       "4     240000                         4          Right                71.0   \n",
       "12    250000                         3           left                79.0   \n",
       "13    250000                         3           Left                79.0   \n",
       "16    300000                         4          Right                66.0   \n",
       "17    300000                         4            NaN                66.0   \n",
       "20    310000                         3          Right                58.0   \n",
       "21    310000                         3          Right                58.0   \n",
       "\n",
       "    attacking_finishing  attacking_heading_accuracy  attacking_short_passing  \\\n",
       "3                  94.0                        85.0                     84.0   \n",
       "4                  94.0                        85.0                     84.0   \n",
       "12                 91.0                        59.0                     84.0   \n",
       "13                 91.0                        59.0                     84.0   \n",
       "16                 65.0                        92.0                     82.0   \n",
       "17                 65.0                        92.0                     82.0   \n",
       "20                 64.0                        80.0                     84.0   \n",
       "21                 64.0                        80.0                     84.0   \n",
       "\n",
       "    attacking_volleys  \n",
       "3                89.0  \n",
       "4                89.0  \n",
       "12               79.0  \n",
       "13               79.0  \n",
       "16               69.0  \n",
       "17               69.0  \n",
       "20               63.0  \n",
       "21               63.0  "
      ]
     },
     "execution_count": 254,
     "metadata": {},
     "output_type": "execute_result"
    }
   ],
   "source": [
    "# Get duplicate rows by id\n",
    "duplicates = fifa.duplicated(subset='id', keep=False)\n",
    "# Output duplicate values\n",
    "fifa[duplicates]"
   ]
  },
  {
   "cell_type": "code",
   "execution_count": 255,
   "metadata": {},
   "outputs": [
    {
     "data": {
      "text/html": [
       "<div>\n",
       "<style scoped>\n",
       "    .dataframe tbody tr th:only-of-type {\n",
       "        vertical-align: middle;\n",
       "    }\n",
       "\n",
       "    .dataframe tbody tr th {\n",
       "        vertical-align: top;\n",
       "    }\n",
       "\n",
       "    .dataframe thead th {\n",
       "        text-align: right;\n",
       "    }\n",
       "</style>\n",
       "<table border=\"1\" class=\"dataframe\">\n",
       "  <thead>\n",
       "    <tr style=\"text-align: right;\">\n",
       "      <th></th>\n",
       "      <th>id</th>\n",
       "      <th>name</th>\n",
       "      <th>age</th>\n",
       "      <th>dob</th>\n",
       "      <th>height_cm</th>\n",
       "      <th>weight_kg</th>\n",
       "      <th>nationality</th>\n",
       "      <th>wage_eur</th>\n",
       "      <th>international_reputation</th>\n",
       "      <th>preferred_foot</th>\n",
       "      <th>attacking_crossing</th>\n",
       "      <th>attacking_finishing</th>\n",
       "      <th>attacking_heading_accuracy</th>\n",
       "      <th>attacking_short_passing</th>\n",
       "      <th>attacking_volleys</th>\n",
       "    </tr>\n",
       "  </thead>\n",
       "  <tbody>\n",
       "  </tbody>\n",
       "</table>\n",
       "</div>"
      ],
      "text/plain": [
       "Empty DataFrame\n",
       "Columns: [id, name, age, dob, height_cm, weight_kg, nationality, wage_eur, international_reputation, preferred_foot, attacking_crossing, attacking_finishing, attacking_heading_accuracy, attacking_short_passing, attacking_volleys]\n",
       "Index: []"
      ]
     },
     "execution_count": 255,
     "metadata": {},
     "output_type": "execute_result"
    }
   ],
   "source": [
    "# Drop duplicates\n",
    "fifa.drop_duplicates(inplace=True)\n",
    "# Check again for duplicates\n",
    "duplicates = fifa.duplicated()\n",
    "fifa[duplicates]"
   ]
  },
  {
   "cell_type": "markdown",
   "metadata": {},
   "source": [
    "# TEXT AND CATEGORICAL INCONSISTENCIES"
   ]
  },
  {
   "cell_type": "code",
   "execution_count": 257,
   "metadata": {},
   "outputs": [
    {
     "data": {
      "text/plain": [
       "Right     74\n",
       "Left      21\n",
       " Right     1\n",
       "Up         1\n",
       " Left      1\n",
       "left       1\n",
       "RIGHT      1\n",
       "Name: preferred_foot, dtype: int64"
      ]
     },
     "execution_count": 257,
     "metadata": {},
     "output_type": "execute_result"
    }
   ],
   "source": [
    "# Get Preferred_Foot column\n",
    "prefered_foot = fifa['preferred_foot']\n",
    "prefered_foot.value_counts()"
   ]
  },
  {
   "cell_type": "code",
   "execution_count": 258,
   "metadata": {},
   "outputs": [
    {
     "data": {
      "text/plain": [
       "right     75\n",
       "left      22\n",
       " right     1\n",
       " left      1\n",
       "up         1\n",
       "Name: preferred_foot, dtype: int64"
      ]
     },
     "execution_count": 258,
     "metadata": {},
     "output_type": "execute_result"
    }
   ],
   "source": [
    "# lowercase\n",
    "fifa['preferred_foot'] = fifa['preferred_foot'].str.lower()\n",
    "fifa['preferred_foot'].value_counts()"
   ]
  },
  {
   "cell_type": "code",
   "execution_count": 259,
   "metadata": {},
   "outputs": [
    {
     "data": {
      "text/plain": [
       "right    76\n",
       "left     23\n",
       "up        1\n",
       "Name: preferred_foot, dtype: int64"
      ]
     },
     "execution_count": 259,
     "metadata": {},
     "output_type": "execute_result"
    }
   ],
   "source": [
    "# Strip all whitespaces\n",
    "fifa['preferred_foot'] = fifa['preferred_foot'].str.strip()\n",
    "fifa['preferred_foot'].value_counts()"
   ]
  },
  {
   "cell_type": "code",
   "execution_count": 260,
   "metadata": {},
   "outputs": [
    {
     "data": {
      "text/html": [
       "<div>\n",
       "<style scoped>\n",
       "    .dataframe tbody tr th:only-of-type {\n",
       "        vertical-align: middle;\n",
       "    }\n",
       "\n",
       "    .dataframe tbody tr th {\n",
       "        vertical-align: top;\n",
       "    }\n",
       "\n",
       "    .dataframe thead th {\n",
       "        text-align: right;\n",
       "    }\n",
       "</style>\n",
       "<table border=\"1\" class=\"dataframe\">\n",
       "  <thead>\n",
       "    <tr style=\"text-align: right;\">\n",
       "      <th></th>\n",
       "      <th>id</th>\n",
       "      <th>name</th>\n",
       "      <th>age</th>\n",
       "      <th>dob</th>\n",
       "      <th>height_cm</th>\n",
       "      <th>weight_kg</th>\n",
       "      <th>nationality</th>\n",
       "      <th>wage_eur</th>\n",
       "      <th>international_reputation</th>\n",
       "      <th>preferred_foot</th>\n",
       "      <th>attacking_crossing</th>\n",
       "      <th>attacking_finishing</th>\n",
       "      <th>attacking_heading_accuracy</th>\n",
       "      <th>attacking_short_passing</th>\n",
       "      <th>attacking_volleys</th>\n",
       "    </tr>\n",
       "  </thead>\n",
       "  <tbody>\n",
       "    <tr>\n",
       "      <th>2</th>\n",
       "      <td>200389</td>\n",
       "      <td>J. Oblak</td>\n",
       "      <td>28</td>\n",
       "      <td>7/1/1993</td>\n",
       "      <td>188</td>\n",
       "      <td>87.0</td>\n",
       "      <td>Slovenia</td>\n",
       "      <td>125000</td>\n",
       "      <td>3</td>\n",
       "      <td>up</td>\n",
       "      <td>13.0</td>\n",
       "      <td>11.0</td>\n",
       "      <td>15.0</td>\n",
       "      <td>43.0</td>\n",
       "      <td>13.0</td>\n",
       "    </tr>\n",
       "    <tr>\n",
       "      <th>6</th>\n",
       "      <td>192985</td>\n",
       "      <td>K. De Bruyne</td>\n",
       "      <td>30</td>\n",
       "      <td>28/6/1991</td>\n",
       "      <td>181</td>\n",
       "      <td>70.0</td>\n",
       "      <td>Belgium</td>\n",
       "      <td>370000</td>\n",
       "      <td>4</td>\n",
       "      <td>NaN</td>\n",
       "      <td>94.0</td>\n",
       "      <td>82.0</td>\n",
       "      <td>55.0</td>\n",
       "      <td>94.0</td>\n",
       "      <td>82.0</td>\n",
       "    </tr>\n",
       "    <tr>\n",
       "      <th>17</th>\n",
       "      <td>155862</td>\n",
       "      <td>Sergio Ramos</td>\n",
       "      <td>35</td>\n",
       "      <td>30/3/1986</td>\n",
       "      <td>184</td>\n",
       "      <td>180.0</td>\n",
       "      <td>Spain</td>\n",
       "      <td>300000</td>\n",
       "      <td>4</td>\n",
       "      <td>NaN</td>\n",
       "      <td>66.0</td>\n",
       "      <td>65.0</td>\n",
       "      <td>92.0</td>\n",
       "      <td>82.0</td>\n",
       "      <td>69.0</td>\n",
       "    </tr>\n",
       "    <tr>\n",
       "      <th>24</th>\n",
       "      <td>212622</td>\n",
       "      <td>J. Kimmich</td>\n",
       "      <td>26</td>\n",
       "      <td>8/2/1995</td>\n",
       "      <td>.</td>\n",
       "      <td>73.0</td>\n",
       "      <td>Germany</td>\n",
       "      <td>145000</td>\n",
       "      <td>3</td>\n",
       "      <td>NaN</td>\n",
       "      <td>91.0</td>\n",
       "      <td>66.0</td>\n",
       "      <td>72.0</td>\n",
       "      <td>87.0</td>\n",
       "      <td>67.0</td>\n",
       "    </tr>\n",
       "  </tbody>\n",
       "</table>\n",
       "</div>"
      ],
      "text/plain": [
       "        id          name  age        dob height_cm  weight_kg nationality  \\\n",
       "2   200389      J. Oblak   28   7/1/1993       188       87.0    Slovenia   \n",
       "6   192985  K. De Bruyne   30  28/6/1991       181       70.0     Belgium   \n",
       "17  155862  Sergio Ramos   35  30/3/1986       184      180.0       Spain   \n",
       "24  212622    J. Kimmich   26   8/2/1995         .       73.0     Germany   \n",
       "\n",
       "    wage_eur  international_reputation preferred_foot  attacking_crossing  \\\n",
       "2     125000                         3             up                13.0   \n",
       "6     370000                         4            NaN                94.0   \n",
       "17    300000                         4            NaN                66.0   \n",
       "24    145000                         3            NaN                91.0   \n",
       "\n",
       "    attacking_finishing  attacking_heading_accuracy  attacking_short_passing  \\\n",
       "2                  11.0                        15.0                     43.0   \n",
       "6                  82.0                        55.0                     94.0   \n",
       "17                 65.0                        92.0                     82.0   \n",
       "24                 66.0                        72.0                     87.0   \n",
       "\n",
       "    attacking_volleys  \n",
       "2                13.0  \n",
       "6                82.0  \n",
       "17               69.0  \n",
       "24               67.0  "
      ]
     },
     "execution_count": 260,
     "metadata": {},
     "output_type": "execute_result"
    }
   ],
   "source": [
    "# Set categories\n",
    "foot_cat = ['right', 'left']\n",
    "# Get and print inconsistent categories\n",
    "consistent_rows = fifa['preferred_foot'].isin(foot_cat)\n",
    "fifa[~consistent_rows]"
   ]
  },
  {
   "cell_type": "code",
   "execution_count": 261,
   "metadata": {},
   "outputs": [
    {
     "data": {
      "text/plain": [
       "right    76\n",
       "left     23\n",
       "Name: preferred_foot, dtype: int64"
      ]
     },
     "execution_count": 261,
     "metadata": {},
     "output_type": "execute_result"
    }
   ],
   "source": [
    "# Drop inconsistent categories\n",
    "new_fifa = fifa[consistent_rows]\n",
    "# Check the Preferred_Foot column again\n",
    "new_fifa['preferred_foot'].value_counts()"
   ]
  },
  {
   "cell_type": "code",
   "execution_count": 262,
   "metadata": {},
   "outputs": [
    {
     "data": {
      "text/plain": [
       "<AxesSubplot:xlabel='wage_eur', ylabel='Count'>"
      ]
     },
     "execution_count": 262,
     "metadata": {},
     "output_type": "execute_result"
    },
    {
     "data": {
      "image/png": "[encoded data removed]",
      "text/plain": [
       "<Figure size 432x288 with 1 Axes>"
      ]
     },
     "metadata": {
      "needs_background": "light"
     },
     "output_type": "display_data"
    }
   ],
   "source": [
    "# Check Wage_Eur distribution using histogram\n",
    "import seaborn as sns\n",
    "sns.histplot(data=new_fifa, x=\"wage_eur\")"
   ]
  },
  {
   "cell_type": "code",
   "execution_count": 263,
   "metadata": {},
   "outputs": [
    {
     "data": {
      "text/plain": [
       "<AxesSubplot:xlabel='wage_eur', ylabel='Count'>"
      ]
     },
     "execution_count": 263,
     "metadata": {},
     "output_type": "execute_result"
    },
    {
     "data": {
      "image/png": "[encoded data removed]",
      "text/plain": [
       "<Figure size 432x288 with 1 Axes>"
      ]
     },
     "metadata": {
      "needs_background": "light"
     },
     "output_type": "display_data"
    }
   ],
   "source": [
    "# Check range four 4 groups\n",
    "sns.histplot(data=new_fifa, x=\"wage_eur\", bins=3)"
   ]
  },
  {
   "cell_type": "code",
   "execution_count": 264,
   "metadata": {},
   "outputs": [
    {
     "name": "stderr",
     "output_type": "stream",
     "text": [
      "<ipython-input-264-dfb1354bc971>:4: SettingWithCopyWarning: \n",
      "A value is trying to be set on a copy of a slice from a DataFrame.\n",
      "Try using .loc[row_indexer,col_indexer] = value instead\n",
      "\n",
      "See the caveats in the documentation: https://pandas.pydata.org/pandas-docs/stable/user_guide/indexing.html#returning-a-view-versus-a-copy\n",
      "  new_fifa['wage_group'] = pd.cut(new_fifa['wage_eur'], bins = 3, labels = group_names)\n"
     ]
    },
    {
     "data": {
      "text/html": [
       "<div>\n",
       "<style scoped>\n",
       "    .dataframe tbody tr th:only-of-type {\n",
       "        vertical-align: middle;\n",
       "    }\n",
       "\n",
       "    .dataframe tbody tr th {\n",
       "        vertical-align: top;\n",
       "    }\n",
       "\n",
       "    .dataframe thead th {\n",
       "        text-align: right;\n",
       "    }\n",
       "</style>\n",
       "<table border=\"1\" class=\"dataframe\">\n",
       "  <thead>\n",
       "    <tr style=\"text-align: right;\">\n",
       "      <th></th>\n",
       "      <th>wage_group</th>\n",
       "      <th>wage_eur</th>\n",
       "    </tr>\n",
       "  </thead>\n",
       "  <tbody>\n",
       "    <tr>\n",
       "      <th>0</th>\n",
       "      <td>400K-600K+</td>\n",
       "      <td>560000</td>\n",
       "    </tr>\n",
       "    <tr>\n",
       "      <th>1</th>\n",
       "      <td>200K-400K</td>\n",
       "      <td>220000</td>\n",
       "    </tr>\n",
       "    <tr>\n",
       "      <th>3</th>\n",
       "      <td>200K-400K</td>\n",
       "      <td>240000</td>\n",
       "    </tr>\n",
       "    <tr>\n",
       "      <th>5</th>\n",
       "      <td>200K-400K</td>\n",
       "      <td>270000</td>\n",
       "    </tr>\n",
       "    <tr>\n",
       "      <th>7</th>\n",
       "      <td>0-200K</td>\n",
       "      <td>160000</td>\n",
       "    </tr>\n",
       "    <tr>\n",
       "      <th>...</th>\n",
       "      <td>...</td>\n",
       "      <td>...</td>\n",
       "    </tr>\n",
       "    <tr>\n",
       "      <th>99</th>\n",
       "      <td>0-200K</td>\n",
       "      <td>120000</td>\n",
       "    </tr>\n",
       "    <tr>\n",
       "      <th>100</th>\n",
       "      <td>0-200K</td>\n",
       "      <td>92000</td>\n",
       "    </tr>\n",
       "    <tr>\n",
       "      <th>101</th>\n",
       "      <td>0-200K</td>\n",
       "      <td>120000</td>\n",
       "    </tr>\n",
       "    <tr>\n",
       "      <th>102</th>\n",
       "      <td>200K-400K</td>\n",
       "      <td>210000</td>\n",
       "    </tr>\n",
       "    <tr>\n",
       "      <th>103</th>\n",
       "      <td>0-200K</td>\n",
       "      <td>56000</td>\n",
       "    </tr>\n",
       "  </tbody>\n",
       "</table>\n",
       "<p>99 rows × 2 columns</p>\n",
       "</div>"
      ],
      "text/plain": [
       "     wage_group  wage_eur\n",
       "0    400K-600K+    560000\n",
       "1     200K-400K    220000\n",
       "3     200K-400K    240000\n",
       "5     200K-400K    270000\n",
       "7        0-200K    160000\n",
       "..          ...       ...\n",
       "99       0-200K    120000\n",
       "100      0-200K     92000\n",
       "101      0-200K    120000\n",
       "102   200K-400K    210000\n",
       "103      0-200K     56000\n",
       "\n",
       "[99 rows x 2 columns]"
      ]
     },
     "execution_count": 264,
     "metadata": {},
     "output_type": "execute_result"
    }
   ],
   "source": [
    "# Set group names\n",
    "group_names = ['0-200K','200K-400K', '400K-600K+']\n",
    "# Create new Wage_Group column from Wage_Eur column\n",
    "new_fifa['wage_group'] = pd.cut(new_fifa['wage_eur'], bins = 3, labels = group_names)\n",
    "# Print Wage_Group column\n",
    "new_fifa[['wage_group', 'wage_eur']]"
   ]
  },
  {
   "cell_type": "code",
   "execution_count": 265,
   "metadata": {},
   "outputs": [
    {
     "name": "stdout",
     "output_type": "stream",
     "text": [
      "<class 'pandas.core.frame.DataFrame'>\n",
      "Int64Index: 99 entries, 0 to 103\n",
      "Data columns (total 16 columns):\n",
      " #   Column                      Non-Null Count  Dtype   \n",
      "---  ------                      --------------  -----   \n",
      " 0   id                          99 non-null     int64   \n",
      " 1   name                        99 non-null     object  \n",
      " 2   age                         99 non-null     int64   \n",
      " 3   dob                         99 non-null     object  \n",
      " 4   height_cm                   99 non-null     object  \n",
      " 5   weight_kg                   96 non-null     float64 \n",
      " 6   nationality                 99 non-null     object  \n",
      " 7   wage_eur                    99 non-null     int32   \n",
      " 8   international_reputation    99 non-null     int64   \n",
      " 9   preferred_foot              99 non-null     object  \n",
      " 10  attacking_crossing          96 non-null     float64 \n",
      " 11  attacking_finishing         96 non-null     float64 \n",
      " 12  attacking_heading_accuracy  96 non-null     float64 \n",
      " 13  attacking_short_passing     96 non-null     float64 \n",
      " 14  attacking_volleys           96 non-null     float64 \n",
      " 15  wage_group                  99 non-null     category\n",
      "dtypes: category(1), float64(6), int32(1), int64(3), object(5)\n",
      "memory usage: 12.2+ KB\n"
     ]
    }
   ],
   "source": [
    "# Check Wage_Group data type\n",
    "new_fifa.info()"
   ]
  },
  {
   "cell_type": "markdown",
   "metadata": {},
   "source": [
    "# Uniformity"
   ]
  },
  {
   "cell_type": "code",
   "execution_count": 266,
   "metadata": {},
   "outputs": [
    {
     "data": {
      "text/plain": [
       "0      158.0\n",
       "1       83.0\n",
       "3       80.0\n",
       "5       68.0\n",
       "7       73.0\n",
       "       ...  \n",
       "99      80.0\n",
       "100     77.0\n",
       "101     59.0\n",
       "102     67.0\n",
       "103     88.0\n",
       "Name: weight_kg, Length: 99, dtype: float64"
      ]
     },
     "execution_count": 266,
     "metadata": {},
     "output_type": "execute_result"
    }
   ],
   "source": [
    "# Inspect Weight column\n",
    "new_fifa['weight_kg']"
   ]
  },
  {
   "cell_type": "code",
   "execution_count": 180,
   "metadata": {},
   "outputs": [
    {
     "data": {
      "text/plain": [
       "<AxesSubplot:xlabel='id', ylabel='weight_kg'>"
      ]
     },
     "execution_count": 180,
     "metadata": {},
     "output_type": "execute_result"
    },
    {
     "data": {
      "image/png": "[encoded data removed]",
      "text/plain": [
       "<Figure size 432x288 with 1 Axes>"
      ]
     },
     "metadata": {
      "needs_background": "light"
     },
     "output_type": "display_data"
    }
   ],
   "source": [
    "# Inspect using scatterplot to check outlier\n",
    "sns.scatterplot(x = 'id', y = 'weight_kg', data = new_fifa)"
   ]
  },
  {
   "cell_type": "code",
   "execution_count": 267,
   "metadata": {},
   "outputs": [
    {
     "name": "stderr",
     "output_type": "stream",
     "text": [
      "C:\\Users\\laila\\anaconda3\\lib\\site-packages\\pandas\\core\\indexing.py:1745: SettingWithCopyWarning: \n",
      "A value is trying to be set on a copy of a slice from a DataFrame.\n",
      "Try using .loc[row_indexer,col_indexer] = value instead\n",
      "\n",
      "See the caveats in the documentation: https://pandas.pydata.org/pandas-docs/stable/user_guide/indexing.html#returning-a-view-versus-a-copy\n",
      "  isetter(ilocs[0], value)\n"
     ]
    }
   ],
   "source": [
    "# Treating Weight_Kg column\n",
    "get_weight_in_pounds = new_fifa.loc[new_fifa['weight_kg'] > 100, 'weight_kg']\n",
    "pounds_to_kg = get_weight_in_pounds * 0.45359237\n",
    "new_fifa.loc[new_fifa['weight_kg'] > 100, 'weight_kg'] = pounds_to_kg"
   ]
  },
  {
   "cell_type": "code",
   "execution_count": 268,
   "metadata": {},
   "outputs": [
    {
     "data": {
      "text/plain": [
       "<AxesSubplot:xlabel='id', ylabel='weight_kg'>"
      ]
     },
     "execution_count": 268,
     "metadata": {},
     "output_type": "execute_result"
    },
    {
     "data": {
      "image/png": "[encoded data removed]",
      "text/plain": [
       "<Figure size 432x288 with 1 Axes>"
      ]
     },
     "metadata": {
      "needs_background": "light"
     },
     "output_type": "display_data"
    }
   ],
   "source": [
    "# Confirming pounds coversion to kg\n",
    "sns.scatterplot(x = 'id', y = 'weight_kg', data = new_fifa)"
   ]
  },
  {
   "cell_type": "code",
   "execution_count": 183,
   "metadata": {},
   "outputs": [
    {
     "data": {
      "text/html": [
       "<div>\n",
       "<style scoped>\n",
       "    .dataframe tbody tr th:only-of-type {\n",
       "        vertical-align: middle;\n",
       "    }\n",
       "\n",
       "    .dataframe tbody tr th {\n",
       "        vertical-align: top;\n",
       "    }\n",
       "\n",
       "    .dataframe thead th {\n",
       "        text-align: right;\n",
       "    }\n",
       "</style>\n",
       "<table border=\"1\" class=\"dataframe\">\n",
       "  <thead>\n",
       "    <tr style=\"text-align: right;\">\n",
       "      <th></th>\n",
       "      <th>age</th>\n",
       "      <th>dob</th>\n",
       "    </tr>\n",
       "  </thead>\n",
       "  <tbody>\n",
       "    <tr>\n",
       "      <th>0</th>\n",
       "      <td>34</td>\n",
       "      <td>24/6/1987</td>\n",
       "    </tr>\n",
       "    <tr>\n",
       "      <th>1</th>\n",
       "      <td>36</td>\n",
       "      <td>5/2/1985</td>\n",
       "    </tr>\n",
       "    <tr>\n",
       "      <th>3</th>\n",
       "      <td>32</td>\n",
       "      <td>21/8/1988</td>\n",
       "    </tr>\n",
       "    <tr>\n",
       "      <th>5</th>\n",
       "      <td>29</td>\n",
       "      <td>5/2/1992</td>\n",
       "    </tr>\n",
       "    <tr>\n",
       "      <th>7</th>\n",
       "      <td>22</td>\n",
       "      <td>20/12/1998</td>\n",
       "    </tr>\n",
       "    <tr>\n",
       "      <th>...</th>\n",
       "      <td>...</td>\n",
       "      <td>...</td>\n",
       "    </tr>\n",
       "    <tr>\n",
       "      <th>99</th>\n",
       "      <td>30</td>\n",
       "      <td>26/1/1991</td>\n",
       "    </tr>\n",
       "    <tr>\n",
       "      <th>100</th>\n",
       "      <td>29</td>\n",
       "      <td>8/1/1992</td>\n",
       "    </tr>\n",
       "    <tr>\n",
       "      <th>101</th>\n",
       "      <td>30</td>\n",
       "      <td>4/6/1991</td>\n",
       "    </tr>\n",
       "    <tr>\n",
       "      <th>102</th>\n",
       "      <td>30</td>\n",
       "      <td>21/2/1991</td>\n",
       "    </tr>\n",
       "    <tr>\n",
       "      <th>103</th>\n",
       "      <td>20</td>\n",
       "      <td>21/7/2000</td>\n",
       "    </tr>\n",
       "  </tbody>\n",
       "</table>\n",
       "<p>99 rows × 2 columns</p>\n",
       "</div>"
      ],
      "text/plain": [
       "     age         dob\n",
       "0     34   24/6/1987\n",
       "1     36    5/2/1985\n",
       "3     32   21/8/1988\n",
       "5     29    5/2/1992\n",
       "7     22  20/12/1998\n",
       "..   ...         ...\n",
       "99    30   26/1/1991\n",
       "100   29    8/1/1992\n",
       "101   30    4/6/1991\n",
       "102   30   21/2/1991\n",
       "103   20   21/7/2000\n",
       "\n",
       "[99 rows x 2 columns]"
      ]
     },
     "execution_count": 183,
     "metadata": {},
     "output_type": "execute_result"
    }
   ],
   "source": [
    "# Cross field validation - age and dob\n",
    "new_fifa[['age', 'dob']]"
   ]
  },
  {
   "cell_type": "code",
   "execution_count": 185,
   "metadata": {
    "scrolled": true
   },
   "outputs": [
    {
     "name": "stderr",
     "output_type": "stream",
     "text": [
      "<ipython-input-185-b5e3e749451f>:3: SettingWithCopyWarning: \n",
      "A value is trying to be set on a copy of a slice from a DataFrame.\n",
      "Try using .loc[row_indexer,col_indexer] = value instead\n",
      "\n",
      "See the caveats in the documentation: https://pandas.pydata.org/pandas-docs/stable/user_guide/indexing.html#returning-a-view-versus-a-copy\n",
      "  new_fifa['dob'] = pd.to_datetime(new_fifa['dob'])\n"
     ]
    },
    {
     "data": {
      "text/plain": [
       "True     66\n",
       "False    33\n",
       "dtype: int64"
      ]
     },
     "execution_count": 185,
     "metadata": {},
     "output_type": "execute_result"
    }
   ],
   "source": [
    "# Convert DOB column to datetime\n",
    "import datetime as dt\n",
    "new_fifa['dob'] = pd.to_datetime(new_fifa['dob'])\n",
    "# Get today's date\n",
    "today = dt.date.today()\n",
    "# Calculate year difference for each row in DOB column\n",
    "age_diff = today.year - new_fifa['dob'].dt.year\n",
    "# Find rows where ages match\n",
    "age_match = age_diff == new_fifa['age']\n"
   ]
  },
  {
   "cell_type": "code",
   "execution_count": 189,
   "metadata": {},
   "outputs": [
    {
     "name": "stdout",
     "output_type": "stream",
     "text": [
      "<class 'pandas.core.frame.DataFrame'>\n",
      "Int64Index: 99 entries, 0 to 103\n",
      "Data columns (total 17 columns):\n",
      " #   Column                      Non-Null Count  Dtype         \n",
      "---  ------                      --------------  -----         \n",
      " 0   id                          99 non-null     int64         \n",
      " 1   name                        99 non-null     object        \n",
      " 2   age                         99 non-null     int64         \n",
      " 3   dob                         99 non-null     datetime64[ns]\n",
      " 4   height_cm                   99 non-null     object        \n",
      " 5   weight_kg                   96 non-null     float64       \n",
      " 6   nationality                 99 non-null     object        \n",
      " 7   wage_eur                    99 non-null     int32         \n",
      " 8   international_reputation    99 non-null     category      \n",
      " 9   preferred_foot              99 non-null     object        \n",
      " 10  attacking_crossing          96 non-null     float64       \n",
      " 11  attacking_finishing         96 non-null     float64       \n",
      " 12  attacking_heading_accuracy  96 non-null     float64       \n",
      " 13  attacking_short_passing     96 non-null     float64       \n",
      " 14  attacking_volleys           96 non-null     float64       \n",
      " 15  wage_group                  99 non-null     category      \n",
      " 16  new_age                     99 non-null     int64         \n",
      "dtypes: category(2), datetime64[ns](1), float64(6), int32(1), int64(3), object(4)\n",
      "memory usage: 12.5+ KB\n"
     ]
    },
    {
     "name": "stderr",
     "output_type": "stream",
     "text": [
      "<ipython-input-189-7f7ff743a195>:2: SettingWithCopyWarning: \n",
      "A value is trying to be set on a copy of a slice from a DataFrame.\n",
      "Try using .loc[row_indexer,col_indexer] = value instead\n",
      "\n",
      "See the caveats in the documentation: https://pandas.pydata.org/pandas-docs/stable/user_guide/indexing.html#returning-a-view-versus-a-copy\n",
      "  new_fifa['new_age'] = age_diff\n"
     ]
    }
   ],
   "source": [
    "# Create New_Age column\n",
    "new_fifa['new_age'] = age_diff\n",
    "new_fifa.info()"
   ]
  },
  {
   "cell_type": "markdown",
   "metadata": {},
   "source": [
    "# Incomplete Data"
   ]
  },
  {
   "cell_type": "code",
   "execution_count": 200,
   "metadata": {},
   "outputs": [
    {
     "name": "stderr",
     "output_type": "stream",
     "text": [
      "<ipython-input-200-8265ef3daa6a>:3: SettingWithCopyWarning: \n",
      "A value is trying to be set on a copy of a slice from a DataFrame.\n",
      "Try using .loc[row_indexer,col_indexer] = value instead\n",
      "\n",
      "See the caveats in the documentation: https://pandas.pydata.org/pandas-docs/stable/user_guide/indexing.html#returning-a-view-versus-a-copy\n",
      "  new_fifa['height_cm'] = new_fifa['height_cm'].replace('.', np.nan)\n"
     ]
    }
   ],
   "source": [
    "# Convert missing values '.' with NaN\n",
    "import numpy as np\n",
    "new_fifa['height_cm'] = new_fifa['height_cm'].replace('.', np.nan)"
   ]
  },
  {
   "cell_type": "code",
   "execution_count": 201,
   "metadata": {},
   "outputs": [
    {
     "name": "stdout",
     "output_type": "stream",
     "text": [
      "<class 'pandas.core.frame.DataFrame'>\n",
      "Int64Index: 99 entries, 0 to 103\n",
      "Data columns (total 17 columns):\n",
      " #   Column                      Non-Null Count  Dtype         \n",
      "---  ------                      --------------  -----         \n",
      " 0   id                          99 non-null     int64         \n",
      " 1   name                        99 non-null     object        \n",
      " 2   age                         99 non-null     int64         \n",
      " 3   dob                         99 non-null     datetime64[ns]\n",
      " 4   height_cm                   97 non-null     object        \n",
      " 5   weight_kg                   96 non-null     float64       \n",
      " 6   nationality                 99 non-null     object        \n",
      " 7   wage_eur                    99 non-null     int32         \n",
      " 8   international_reputation    99 non-null     category      \n",
      " 9   preferred_foot              99 non-null     object        \n",
      " 10  attacking_crossing          96 non-null     float64       \n",
      " 11  attacking_finishing         96 non-null     float64       \n",
      " 12  attacking_heading_accuracy  96 non-null     float64       \n",
      " 13  attacking_short_passing     96 non-null     float64       \n",
      " 14  attacking_volleys           96 non-null     float64       \n",
      " 15  wage_group                  99 non-null     category      \n",
      " 16  new_age                     99 non-null     int64         \n",
      "dtypes: category(2), datetime64[ns](1), float64(6), int32(1), int64(3), object(4)\n",
      "memory usage: 12.5+ KB\n"
     ]
    }
   ],
   "source": [
    "new_fifa.info()"
   ]
  },
  {
   "cell_type": "code",
   "execution_count": 216,
   "metadata": {},
   "outputs": [
    {
     "name": "stdout",
     "output_type": "stream",
     "text": [
      "<class 'pandas.core.frame.DataFrame'>\n",
      "Int64Index: 99 entries, 0 to 103\n",
      "Data columns (total 17 columns):\n",
      " #   Column                      Non-Null Count  Dtype         \n",
      "---  ------                      --------------  -----         \n",
      " 0   id                          99 non-null     int64         \n",
      " 1   name                        99 non-null     object        \n",
      " 2   age                         99 non-null     int64         \n",
      " 3   dob                         99 non-null     datetime64[ns]\n",
      " 4   height_cm                   99 non-null     float64       \n",
      " 5   weight_kg                   99 non-null     float64       \n",
      " 6   nationality                 99 non-null     object        \n",
      " 7   wage_eur                    99 non-null     int32         \n",
      " 8   international_reputation    99 non-null     category      \n",
      " 9   preferred_foot              99 non-null     object        \n",
      " 10  attacking_crossing          96 non-null     float64       \n",
      " 11  attacking_finishing         96 non-null     float64       \n",
      " 12  attacking_heading_accuracy  96 non-null     float64       \n",
      " 13  attacking_short_passing     96 non-null     float64       \n",
      " 14  attacking_volleys           96 non-null     float64       \n",
      " 15  wage_group                  99 non-null     category      \n",
      " 16  new_age                     99 non-null     int64         \n",
      "dtypes: category(2), datetime64[ns](1), float64(7), int32(1), int64(3), object(3)\n",
      "memory usage: 15.0+ KB\n"
     ]
    },
    {
     "name": "stderr",
     "output_type": "stream",
     "text": [
      "<ipython-input-216-317d01023baa>:2: SettingWithCopyWarning: \n",
      "A value is trying to be set on a copy of a slice from a DataFrame.\n",
      "Try using .loc[row_indexer,col_indexer] = value instead\n",
      "\n",
      "See the caveats in the documentation: https://pandas.pydata.org/pandas-docs/stable/user_guide/indexing.html#returning-a-view-versus-a-copy\n",
      "  new_fifa['height_cm'] = pd.to_numeric(new_fifa['height_cm'])\n",
      "<ipython-input-216-317d01023baa>:4: SettingWithCopyWarning: \n",
      "A value is trying to be set on a copy of a slice from a DataFrame.\n",
      "Try using .loc[row_indexer,col_indexer] = value instead\n",
      "\n",
      "See the caveats in the documentation: https://pandas.pydata.org/pandas-docs/stable/user_guide/indexing.html#returning-a-view-versus-a-copy\n",
      "  new_fifa['height_cm'] = new_fifa['height_cm'].replace(np.nan,new_fifa['height_cm'].mean())\n",
      "<ipython-input-216-317d01023baa>:5: SettingWithCopyWarning: \n",
      "A value is trying to be set on a copy of a slice from a DataFrame.\n",
      "Try using .loc[row_indexer,col_indexer] = value instead\n",
      "\n",
      "See the caveats in the documentation: https://pandas.pydata.org/pandas-docs/stable/user_guide/indexing.html#returning-a-view-versus-a-copy\n",
      "  new_fifa['weight_kg'] = new_fifa['weight_kg'].replace(np.nan,new_fifa['weight_kg'].median())\n"
     ]
    }
   ],
   "source": [
    "# Convert Height_kg to float\n",
    "new_fifa['height_cm'] = pd.to_numeric(new_fifa['height_cm'])\n",
    "# Impute Height_kg and Weight_kg columns\n",
    "new_fifa['height_cm'] = new_fifa['height_cm'].replace(np.nan,new_fifa['height_cm'].mean())\n",
    "new_fifa['weight_kg'] = new_fifa['weight_kg'].replace(np.nan,new_fifa['weight_kg'].median())\n",
    "# Check null counts\n",
    "new_fifa.info()"
   ]
  },
  {
   "cell_type": "code",
   "execution_count": 220,
   "metadata": {},
   "outputs": [
    {
     "name": "stdout",
     "output_type": "stream",
     "text": [
      "<class 'pandas.core.frame.DataFrame'>\n",
      "Int64Index: 96 entries, 0 to 103\n",
      "Data columns (total 17 columns):\n",
      " #   Column                      Non-Null Count  Dtype         \n",
      "---  ------                      --------------  -----         \n",
      " 0   id                          96 non-null     int64         \n",
      " 1   name                        96 non-null     object        \n",
      " 2   age                         96 non-null     int64         \n",
      " 3   dob                         96 non-null     datetime64[ns]\n",
      " 4   height_cm                   96 non-null     float64       \n",
      " 5   weight_kg                   96 non-null     float64       \n",
      " 6   nationality                 96 non-null     object        \n",
      " 7   wage_eur                    96 non-null     int32         \n",
      " 8   international_reputation    96 non-null     category      \n",
      " 9   preferred_foot              96 non-null     object        \n",
      " 10  attacking_crossing          96 non-null     float64       \n",
      " 11  attacking_finishing         96 non-null     float64       \n",
      " 12  attacking_heading_accuracy  96 non-null     float64       \n",
      " 13  attacking_short_passing     96 non-null     float64       \n",
      " 14  attacking_volleys           96 non-null     float64       \n",
      " 15  wage_group                  96 non-null     category      \n",
      " 16  new_age                     96 non-null     int64         \n",
      "dtypes: category(2), datetime64[ns](1), float64(7), int32(1), int64(3), object(3)\n",
      "memory usage: 12.1+ KB\n"
     ]
    }
   ],
   "source": [
    "# Remove rows with missing values in Attacking columns\n",
    "attacking = ['attacking_crossing', 'attacking_finishing', 'attacking_heading_accuracy', 'attacking_short_passing', 'attacking_volleys' ]\n",
    "new_fifa = new_fifa.dropna(subset=attacking)\n",
    "new_fifa.info()"
   ]
  },
  {
   "cell_type": "code",
   "execution_count": 221,
   "metadata": {},
   "outputs": [],
   "source": [
    "# Write file\n",
    "new_fifa.to_csv('new-fifa-21.csv')"
   ]
  },
  {
   "cell_type": "code",
   "execution_count": null,
   "metadata": {},
   "outputs": [],
   "source": []
  }
 ],
 "metadata": {
  "kernelspec": {
   "display_name": "Python 3",
   "language": "python",
   "name": "python3"
  },
  "language_info": {
   "codemirror_mode": {
    "name": "ipython",
    "version": 3
   },
   "file_extension": ".py",
   "mimetype": "text/x-python",
   "name": "python",
   "nbconvert_exporter": "python",
   "pygments_lexer": "ipython3",
   "version": "3.8.5"
  }
 },
 "nbformat": 4,
 "nbformat_minor": 4
}
