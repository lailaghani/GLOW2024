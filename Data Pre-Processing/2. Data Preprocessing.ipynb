{
 "cells": [
  {
   "cell_type": "code",
   "execution_count": 1,
   "id": "df74d426-22dd-451d-9b61-4ee9a0e9b61f",
   "metadata": {},
   "outputs": [],
   "source": [
    "import pandas as pd\n",
    "import numpy as np\n",
    "from sklearn.preprocessing import StandardScaler, LabelEncoder"
   ]
  },
  {
   "cell_type": "code",
   "execution_count": 3,
   "id": "8d7cb087-9720-4a48-97fc-aab461bff69c",
   "metadata": {},
   "outputs": [
    {
     "name": "stdout",
     "output_type": "stream",
     "text": [
      "Original Dataset:\n",
      "    age   salary  gender purchased\n",
      "0  25.0  50000.0    male        no\n",
      "1   NaN  60000.0  female       yes\n",
      "2  35.0  75000.0     NaN        no\n",
      "3  45.0  80000.0  female       yes\n",
      "4   NaN      NaN    male        no\n",
      "5  50.0  90000.0    male       yes\n",
      "6  22.0  40000.0  female        no\n",
      "7  28.0      NaN  female       yes\n"
     ]
    }
   ],
   "source": [
    "# Step 1: Create a synthetic dataset\n",
    "data = pd.DataFrame({\n",
    "    'age': [25, np.nan, 35, 45, np.nan, 50, 22, 28],\n",
    "    'salary': [50000, 60000, 75000, 80000, np.nan, 90000, 40000, np.nan],\n",
    "    'gender': ['male', 'female', np.nan, 'female', 'male', 'male', 'female', 'female'],\n",
    "    'purchased': ['no', 'yes', 'no', 'yes', 'no', 'yes', 'no', 'yes']\n",
    "})\n",
    "\n",
    "print(\"Original Dataset:\")\n",
    "print(data)\n",
    "\n"
   ]
  },
  {
   "cell_type": "code",
   "execution_count": 5,
   "id": "fb585b55-3bb5-46f1-ac42-0b592f5deda2",
   "metadata": {},
   "outputs": [
    {
     "name": "stdout",
     "output_type": "stream",
     "text": [
      "\n",
      "Dataset after handling missing values:\n",
      "         age        salary  gender purchased\n",
      "0  25.000000  50000.000000    male        no\n",
      "1  34.166667  60000.000000  female       yes\n",
      "2  35.000000  75000.000000  female        no\n",
      "3  45.000000  80000.000000  female       yes\n",
      "4  34.166667  65833.333333    male        no\n",
      "5  50.000000  90000.000000    male       yes\n",
      "6  22.000000  40000.000000  female        no\n",
      "7  28.000000  65833.333333  female       yes\n"
     ]
    },
    {
     "name": "stderr",
     "output_type": "stream",
     "text": [
      "C:\\Users\\laila\\AppData\\Local\\Temp\\ipykernel_11460\\1715707129.py:2: FutureWarning: A value is trying to be set on a copy of a DataFrame or Series through chained assignment using an inplace method.\n",
      "The behavior will change in pandas 3.0. This inplace method will never work because the intermediate object on which we are setting values always behaves as a copy.\n",
      "\n",
      "For example, when doing 'df[col].method(value, inplace=True)', try using 'df.method({col: value}, inplace=True)' or df[col] = df[col].method(value) instead, to perform the operation inplace on the original object.\n",
      "\n",
      "\n",
      "  data['age'].fillna(data['age'].mean(), inplace=True)\n",
      "C:\\Users\\laila\\AppData\\Local\\Temp\\ipykernel_11460\\1715707129.py:3: FutureWarning: A value is trying to be set on a copy of a DataFrame or Series through chained assignment using an inplace method.\n",
      "The behavior will change in pandas 3.0. This inplace method will never work because the intermediate object on which we are setting values always behaves as a copy.\n",
      "\n",
      "For example, when doing 'df[col].method(value, inplace=True)', try using 'df.method({col: value}, inplace=True)' or df[col] = df[col].method(value) instead, to perform the operation inplace on the original object.\n",
      "\n",
      "\n",
      "  data['salary'].fillna(data['salary'].mean(), inplace=True)\n",
      "C:\\Users\\laila\\AppData\\Local\\Temp\\ipykernel_11460\\1715707129.py:4: FutureWarning: A value is trying to be set on a copy of a DataFrame or Series through chained assignment using an inplace method.\n",
      "The behavior will change in pandas 3.0. This inplace method will never work because the intermediate object on which we are setting values always behaves as a copy.\n",
      "\n",
      "For example, when doing 'df[col].method(value, inplace=True)', try using 'df.method({col: value}, inplace=True)' or df[col] = df[col].method(value) instead, to perform the operation inplace on the original object.\n",
      "\n",
      "\n",
      "  data['gender'].fillna(data['gender'].mode()[0], inplace=True)\n"
     ]
    }
   ],
   "source": [
    "# Step 2: Handle Missing Values\n",
    "data['age'].fillna(data['age'].mean(), inplace=True)\n",
    "data['salary'].fillna(data['salary'].mean(), inplace=True)\n",
    "data['gender'].fillna(data['gender'].mode()[0], inplace=True)\n",
    "\n",
    "print(\"\\nDataset after handling missing values:\")\n",
    "print(data)\n",
    "\n"
   ]
  },
  {
   "cell_type": "code",
   "execution_count": 7,
   "id": "dc1fe310-d66d-47ac-aee0-294f293bc893",
   "metadata": {},
   "outputs": [
    {
     "name": "stdout",
     "output_type": "stream",
     "text": [
      "\n",
      "Dataset after encoding categorical variables:\n",
      "         age        salary  gender  purchased\n",
      "0  25.000000  50000.000000       1          0\n",
      "1  34.166667  60000.000000       0          1\n",
      "2  35.000000  75000.000000       0          0\n",
      "3  45.000000  80000.000000       0          1\n",
      "4  34.166667  65833.333333       1          0\n",
      "5  50.000000  90000.000000       1          1\n",
      "6  22.000000  40000.000000       0          0\n",
      "7  28.000000  65833.333333       0          1\n"
     ]
    }
   ],
   "source": [
    "# Step 3: Encode Categorical Variables\n",
    "label_encoder = LabelEncoder()\n",
    "data['gender'] = label_encoder.fit_transform(data['gender'])\n",
    "data['purchased'] = label_encoder.fit_transform(data['purchased'])\n",
    "\n",
    "print(\"\\nDataset after encoding categorical variables:\")\n",
    "print(data)\n",
    "\n",
    "\n"
   ]
  },
  {
   "cell_type": "code",
   "execution_count": 9,
   "id": "dc5b23a6-9808-4746-a238-f5c868e82128",
   "metadata": {},
   "outputs": [
    {
     "name": "stdout",
     "output_type": "stream",
     "text": [
      "\n",
      "Dataset after feature scaling:\n",
      "        age    salary  gender  purchased\n",
      "0 -1.025800 -1.049500       1          0\n",
      "1  0.000000 -0.386658       0          1\n",
      "2  0.093255  0.607605       0          0\n",
      "3  1.212309  0.939026       0          1\n",
      "4  0.000000  0.000000       1          0\n",
      "5  1.771836  1.601868       1          1\n",
      "6 -1.361516 -1.712341       0          0\n",
      "7 -0.690084  0.000000       0          1\n"
     ]
    }
   ],
   "source": [
    "# Step 4: Feature Scaling\n",
    "scaler = StandardScaler()\n",
    "data[['age', 'salary']] = scaler.fit_transform(data[['age', 'salary']])\n",
    "\n",
    "print(\"\\nDataset after feature scaling:\")\n",
    "print(data)"
   ]
  },
  {
   "cell_type": "code",
   "execution_count": null,
   "id": "86eb4761-f6fd-44fd-93bb-a1ecf3694563",
   "metadata": {},
   "outputs": [],
   "source": []
  }
 ],
 "metadata": {
  "kernelspec": {
   "display_name": "Python 3 (ipykernel)",
   "language": "python",
   "name": "python3"
  },
  "language_info": {
   "codemirror_mode": {
    "name": "ipython",
    "version": 3
   },
   "file_extension": ".py",
   "mimetype": "text/x-python",
   "name": "python",
   "nbconvert_exporter": "python",
   "pygments_lexer": "ipython3",
   "version": "3.12.4"
  }
 },
 "nbformat": 4,
 "nbformat_minor": 5
}
